{
  "cells": [
    {
      "cell_type": "markdown",
      "metadata": {
        "id": "3SHVl4cWjgoO"
      },
      "source": [
        "### Case Study 4 :  Data Science Shark Tank:  Pitch Your Ideas\n",
        "\n",
        "**Due Date: December 8, 2023, BEFORE the beginning of class at 12:00pm ET**\n",
        "\n",
        "NOTE: There are always last minute issues submitting the case studies. DO NOT WAIT UNTIL THE LAST MINUTE!\n",
        "\n",
        "<img src=\"https://techcrunch.com/wp-content/uploads/2018/10/shark-tank.jpg?w=730&crop=1\" width=\"400px\"> "
      ]
    },
    {
      "cell_type": "markdown",
      "metadata": {
        "id": "SaAD7SdXjgoQ"
      },
      "source": [
        "After the previous three case studies,  your team is now equipped with a powerful set of data science skills. In this project, your team is going to make use of these skills to come up with an idea of a new business/startup based upon data science technology. Your goal is to design a service/solution, develop a prototype/demo and prepare a pitch for your idea.\n",
        "* Your team needs to decide which business problem is important for the market you are joining in (for example, social media market, housing market, search market, etc.).\n",
        "* Then design a data science approach to improve one of the current services or design a new service on any data that you choose.\n",
        "* The solution should include:\n",
        "  1. The use of NewsAPI data\n",
        "  2. The use of at least one other data set to combine with the NewsAPI data\n",
        "  3. The use of cloud resources\n",
        "  4. A 90 second elevator pitch\n",
        "  1. The normal longer present with a demo of your product\n",
        "* NOTE, as opposed to the first three case studies, case study 5 is much more open ended.  \n",
        "  * Business is the focus\n",
        "  * The precise balance of the various things we learned in class is up to you."
      ]
    },
    {
      "cell_type": "markdown",
      "metadata": {
        "id": "9rHMBNmVjgoR"
      },
      "source": [
        "# Background about Elevator Pitch (90 seconds) and Shark Tank"
      ]
    },
    {
      "cell_type": "code",
      "execution_count": null,
      "metadata": {
        "id": "kGMGqZy-jgoR",
        "outputId": "90a1b31b-537a-4c79-af4e-f00b289c7f9a"
      },
      "outputs": [
        {
          "data": {
            "image/jpeg": "[encoded data removed]",
            "text/html": [
              "\n",
              "        <iframe\n",
              "            width=\"400\"\n",
              "            height=\"300\"\n",
              "            src=\"https://www.youtube.com/embed/3UuFR4Y4uw8\"\n",
              "            frameborder=\"0\"\n",
              "            allowfullscreen\n",
              "        ></iframe>\n",
              "        "
            ],
            "text/plain": [
              "<IPython.lib.display.YouTubeVideo at 0x2869b800550>"
            ]
          },
          "execution_count": 3,
          "metadata": {},
          "output_type": "execute_result"
        }
      ],
      "source": [
        "from IPython.display import YouTubeVideo\n",
        "YouTubeVideo(\"3UuFR4Y4uw8\") "
      ]
    },
    {
      "cell_type": "markdown",
      "metadata": {
        "id": "So2FndUVjgoS"
      },
      "source": [
        "### Two videos on storytelling"
      ]
    },
    {
      "cell_type": "markdown",
      "metadata": {
        "id": "svbG59IejgoT"
      },
      "source": [
        "https://video.wpi.edu/Watch/g2T4NjBn"
      ]
    },
    {
      "cell_type": "markdown",
      "metadata": {
        "id": "_6TmKhyMjgoT"
      },
      "source": [
        "https://video.wpi.edu/Watch/q2A6Dbg3"
      ]
    },
    {
      "cell_type": "markdown",
      "metadata": {
        "id": "AjugdkxCjgoT"
      },
      "source": [
        "\n",
        "**Optional Readings:** \n",
        "* LinkedIn API: https://developer.linkedin.com/docs/rest-api\n",
        "* Zillow API: https://pypi.python.org/pypi/pyzillow\n",
        "* Google Map API: https://developers.google.com/api-client-library/python/apis/mapsengine/v1?hl=en\n",
        "* More APIs: https://github.com/ptwobrussell/Mining-the-Social-Web-2nd-Edition\n",
        "\n",
        "\n",
        "** Python libraries you may want to use:**\n",
        "* Scikit-learn (http://scikit-learn.org): machine learning tools in Python.\n",
        "\n",
        "** Data sources:**\n",
        "* UCI Machine Learning Repository: http://archive.ics.uci.edu/ml/ \n",
        "* Statlib datasets: http://lib.stat.cmu.edu/\n",
        "* Kaggel: www.kaggle.com \n",
        "* Open Gov. Data: www.data.gov, www.data.gov.uk, www.data.gov.fr, http://opengovernmentdata.org/data/catalogues/   \n",
        "\n",
        "** NOTE **\n",
        "* Please don't forget to save the notebook frequently when working in IPython Notebook, otherwise the changes you made can be lost.\n"
      ]
    },
    {
      "cell_type": "markdown",
      "metadata": {
        "id": "aUDxNVNUjgoT"
      },
      "source": [
        "### Problem 1 (20 points): the Business Part \n",
        " As a group, learn about the data science related business and research about the current markets: such as search, social media, advertisement, recommendation and so on.\n",
        "Pick one of the markets for further consideration, and design a new service  which you believe to be important in the market. \n",
        "Define precisely in the report and briefly in the cells below, what is the business problem that your team wants to solve.\n",
        "Why the problem is important to solve? \n",
        "Why you believe you could make a big difference with data science technology.\n",
        "How are you planing to persuade the investors to buy in your idea."
      ]
    },
    {
      "cell_type": "markdown",
      "metadata": {
        "id": "4NBY3_AojgoU"
      },
      "source": [
        "**Please describe here *briefly*  (please edit this cell)**\n",
        "\n",
        "1) Your business problem to solve:\n",
        "\n",
        "\n",
        "\n",
        "2) Why the problem is important to solve? \n",
        "\n",
        "\n",
        "3) What is your idea to solve the problem? \n",
        "\n",
        "\n",
        "4) What differences you could make with your data science approach?\n",
        "\n",
        "\n",
        "5) Why do you believe the idea deserves the investment of the \"sharks\"?\n",
        "\n",
        "\n",
        "\n",
        "\n"
      ]
    },
    {
      "cell_type": "markdown",
      "metadata": {
        "id": "9bVjigvtjgoU"
      },
      "source": [
        "### Problem 2 (20 points): The Data Part "
      ]
    },
    {
      "cell_type": "markdown",
      "metadata": {
        "id": "fFCFnuvqjgoU"
      },
      "source": [
        "Define how NewsAPI data and at least one other dataset can be combined to make a Data Science product."
      ]
    },
    {
      "cell_type": "code",
      "execution_count": null,
      "metadata": {
        "id": "kWhPkKM3jgoU"
      },
      "outputs": [],
      "source": [
        "# your code here\n",
        "\n",
        "\n"
      ]
    },
    {
      "cell_type": "markdown",
      "metadata": {
        "id": "2na5JTirjgoV"
      },
      "source": [
        "### Problem 3 (20 points): The Demo Part  \n"
      ]
    },
    {
      "cell_type": "markdown",
      "metadata": {
        "id": "NZZXqVvKjgoV"
      },
      "source": [
        "Implement a small Demo/Prototype/experiment result figures for the \"product\" of your data science company. You could use this demo during the Pitch"
      ]
    },
    {
      "cell_type": "code",
      "execution_count": null,
      "metadata": {
        "id": "djIYoO3ijgoV"
      },
      "outputs": [],
      "source": [
        "# your code here\n",
        "\n",
        "\n",
        "\n",
        "\n"
      ]
    },
    {
      "cell_type": "markdown",
      "metadata": {
        "id": "ibfjvbDjjgoV"
      },
      "source": [
        "### Problem 4 (20 points): Prepare a 90 second Pitch and *present* it in the class \n",
        "\n",
        "* Prepare the slide(s) for the Pitch (10 points)\n",
        "* Present it in the class (10 points).\n",
        "\n",
        "**Advice:  It should really only be one or two slides, but a really good one or two slides!  Also, it is ok to select one person on the team to give the 90 second pitch (though a very organized multi-person 90 second pitch can be very impressive!)**\n",
        "\n"
      ]
    },
    {
      "cell_type": "markdown",
      "metadata": {
        "id": "cVrKlg5zjgoW"
      },
      "source": [
        "# Slides (for 10 minutes of presentation) (20 points)\n",
        "\n",
        "\n",
        "1. (5 points) Motivation about the data collection, why the topic is interesting to you. \n",
        "\n",
        "2. (10 points) Communicating Results (figure/table)\n",
        "\n",
        "3. (5 points) Story telling (How all the parts (data, analysis, result) fit together as a story?)"
      ]
    },
    {
      "cell_type": "markdown",
      "metadata": {
        "id": "BLDadFWxjgoW"
      },
      "source": [
        "\n",
        "# Done\n",
        "\n",
        "All set! \n",
        "\n",
        "** What do you need to submit?**\n",
        "\n",
        "* **Notebook File**: Save this IPython notebook, and find the notebook file in your folder (for example, \"filename.ipynb\"). This is the file you need to submit. Please make sure all the plotted tables and figures are in the notebook. If you used \"ipython notebook --pylab=inline\" to open the notebook, all the figures and tables should have shown up in the notebook.\n",
        "\n",
        "\n",
        "* **PPT Slides**: **NOTE, for this Case Study you need to prepare two (2) PPT files!**  One for the 90 second Pitch and one for a normal 15 minute presentation.\n",
        "\n",
        "*Please compress all the files into a single zipped file.*\n",
        "\n",
        "\n",
        "** How to submit: **\n",
        "\n",
        "        Please submit through canvas.wpi.edu.\n",
        "\n",
        "### DS3010 Case Study 4 Team ??\n",
        "\n",
        "#### where ?? is your team number.\n",
        "        \n",
        "** Note: Each team just needs to submits one submission **"
      ]
    },
    {
      "cell_type": "markdown",
      "metadata": {
        "collapsed": true,
        "id": "frk3FfU2jgoW"
      },
      "source": [
        "# Grading Criteria:\n",
        "\n",
        "**Totoal Points: 100**\n",
        "\n",
        "\n",
        "---------------------------------------------------------------------------\n",
        "**Notebook results:**\n",
        "    Points: 80\n",
        "\n",
        "\n",
        "    -----------------------------------\n",
        "    Question 1:\n",
        "    Points: 20\n",
        "    -----------------------------------\n",
        "    \n",
        "    -----------------------------------\n",
        "    Question 2:\n",
        "    Points: 20\n",
        "    -----------------------------------\n",
        "        \n",
        "    -----------------------------------\n",
        "    Question 3:\n",
        "    Points: 20\n",
        "    -----------------------------------\n",
        "  \n",
        "    -----------------------------------\n",
        "    Question 4:  90 second product pitch\n",
        "    Points: 20\n",
        "    -----------------------------------\n",
        "      \n",
        "    -----------------------------------\n",
        "\n",
        "---------------------------------------------------------------------------\n",
        "**Slides (for 15 minutes of presentation): Story-telling**\n",
        "    Points: 20\n",
        "\n",
        "\n",
        "1. Motivation about the data collection, why the topic is interesting to you.\n",
        "    Points: 5 \n",
        "\n",
        "2. Communicating Results (figure/table)\n",
        "    Points: 10 \n",
        "\n",
        "3. Story telling (How all the parts (data, analysis, result) fit together as a story?)\n",
        "    Points: 5 \n"
      ]
    }
  ],
  "metadata": {
    "colab": {
      "name": "Case5.ipynb",
      "provenance": []
    },
    "kernelspec": {
      "display_name": "Python 3",
      "language": "python",
      "name": "python3"
    },
    "language_info": {
      "codemirror_mode": {
        "name": "ipython",
        "version": 3
      },
      "file_extension": ".py",
      "mimetype": "text/x-python",
      "name": "python",
      "nbconvert_exporter": "python",
      "pygments_lexer": "ipython3",
      "version": "3.7.3"
    }
  },
  "nbformat": 4,
  "nbformat_minor": 0
}
