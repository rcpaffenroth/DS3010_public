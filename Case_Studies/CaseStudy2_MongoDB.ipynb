{
  "cells": [
    {
      "cell_type": "markdown",
      "metadata": {
        "id": "IQZqJy0gY6Dl"
      },
      "source": [
        "# Case Study 2 : Putting NewsAPI Data into the Cloud\n",
        "\n",
        "Due Date: 11/28/2023, **BEFORE the beginning of class at 12:00pm EST**\n",
        "\n",
        "## **NOTE: There are *always* last minute issues submitting the case studies.  DO NOT WAIT UNTIL THE LAST MINUTE!**"
      ]
    },
    {
      "cell_type": "markdown",
      "metadata": {
        "id": "JyNhpJN5Y6Dn"
      },
      "source": [
        "<a title=\"Fabián Alexis [CC BY-SA (https://creativecommons.org/licenses/by-sa/3.0)]\" href=\"https://commons.wikimedia.org/wiki/File:Antu_mongodb.svg\"><img width=\"512\" alt=\"Antu mongodb\" src=\"https://upload.wikimedia.org/wikipedia/commons/thumb/f/f9/Antu_mongodb.svg/512px-Antu_mongodb.svg.png\"></a>"
      ]
    },
    {
      "cell_type": "markdown",
      "metadata": {
        "id": "DhXEvLb5Y6Do"
      },
      "source": [
        "**TEAM Members:** Please EDIT this cell and add the names of all the team members in your team\n",
        "\n",
        "    member 1\n",
        "    \n",
        "    member 2\n",
        "    \n",
        "    ..."
      ]
    },
    {
      "cell_type": "markdown",
      "metadata": {
        "id": "IdtCbjp9Y6Do"
      },
      "source": [
        "**Don't forget!**\n",
        "* You will need to install the pymongo library to access MongoDB\n",
        " * pip install pymongo\n",
        "* You will also need to install dnspython to access the cloud version of MongoDB\n",
        " * pip install dnspython\n",
        "\n",
        "** NOTE **\n",
        "* **Please don't forget to save the notebook frequently when working in IPython Notebook, otherwise the changes you made can be lost**."
      ]
    },
    {
      "cell_type": "markdown",
      "metadata": {
        "id": "1R87hP_pY6Dq"
      },
      "source": [
        "# Problem 1 (20 points):  Get a cloud database account using MongoDB Atlas"
      ]
    },
    {
      "cell_type": "markdown",
      "metadata": {
        "id": "Q10TAFcOY6Dq"
      },
      "source": [
        "Get a free cloud hosted MongoDB database account at https://www.mongodb.com/atlas/database.  You will need to: \n",
        "\n",
        "* Create a database cluster using the MongoDB web interface\n",
        "* Get your MongoDB credentials\n",
        "* Create a document collection in MongoBD\n"
      ]
    },
    {
      "cell_type": "code",
      "execution_count": null,
      "metadata": {
        "id": "MO0paphxY6Dq"
      },
      "outputs": [],
      "source": [
        "#----------------------------------------------\n",
        "# Your code starts here\n",
        "#   Please add comments or text cells in between to explain the general idea of each block of the code.\n",
        "#   Please feel free to add more cells below this cell if necessary\n",
        "import pymongo\n"
      ]
    },
    {
      "cell_type": "markdown",
      "metadata": {
        "id": "7dOckKukY6Ds"
      },
      "source": [
        "# Problem 2 (20 points):  Read NewsAPI data into your cloud MongoDB database"
      ]
    },
    {
      "cell_type": "markdown",
      "metadata": {
        "id": "-yQgleDnY6Ds"
      },
      "source": [
        "Gather NewsAPI data and upload it to your cloud database.  You will need to:\n",
        "\n",
        "* Get your cloubd MongoDB credentials using the MongoDB web interface\n",
        "* Insert those credentials into your Juypyter notebook using pymongo\n",
        "* Gather NewsAPI data as in Case Study 1\n",
        "* Upload your NewsAPI data to the MongoDB cloud document collection\n",
        "\n",
        "Note, to do you this question remember that you will need *two sets of credentials*\n",
        "\n",
        "* One set for the MongoDB Atlas database\n",
        "* One set for the NewsAPI\n",
        "\n",
        "Of course, there are not the same!"
      ]
    },
    {
      "cell_type": "code",
      "execution_count": null,
      "metadata": {
        "id": "my4IUYVvY6Ds"
      },
      "outputs": [],
      "source": [
        "from newsapi import NewsApiClient\n",
        "\n",
        "# See https://newsapi.org/docs for more information\n",
        "# on NewsAPI implementation.\n",
        "\n",
        "API_KEY = 'PUT YOUR API KEY HERE'\n",
        "\n",
        "newsapi = NewsApiClient(api_key=API_KEY)\n",
        "print(newsapi)"
      ]
    },
    {
      "cell_type": "markdown",
      "metadata": {
        "id": "Ui6DxP0lY6Dt"
      },
      "source": [
        "# Problem 3 (20 points):  Use a regular expression to read a subset of your news articles out of MongoDB"
      ]
    },
    {
      "cell_type": "markdown",
      "metadata": {
        "id": "63qOpjc9Y6Dt"
      },
      "source": [
        "Use regular expressions to analyze properties of your data.  For example, you can \n",
        "\n",
        "* search for descriptions that contain a certain string, \n",
        "* search for articles that have images \n",
        "* search for certain news sources\n",
        "* anything else you think might be useful for a product!"
      ]
    },
    {
      "cell_type": "code",
      "execution_count": null,
      "metadata": {
        "id": "5W_39LCaY6Du"
      },
      "outputs": [],
      "source": [
        "#----------------------------------------------\n",
        "# Your code starts here\n",
        "#   Please add comments or text cells in between to explain the general idea of each block of the code.\n",
        "#   Please feel free to add more cells below this cell if necessary\n"
      ]
    },
    {
      "cell_type": "markdown",
      "metadata": {
        "collapsed": true,
        "id": "n0iZmkh7Y6Du"
      },
      "source": [
        "# Problem 4 (20 points): Business question \n",
        "\n",
        "Run some additional experiments with your data to gain familiarity with the MongoDB.\n",
        "\n",
        "* Come up with a business question that NewsAPI data and MongoDB could help answer.\n",
        "* Decribe the business case.\n",
        "* How could MongoDB help a company to scale up its computation environment?"
      ]
    },
    {
      "cell_type": "code",
      "execution_count": null,
      "metadata": {
        "id": "Q_JRP_b5Y6Dv"
      },
      "outputs": [],
      "source": [
        "#----------------------------------------------\n",
        "# Your code starts here\n",
        "#   Please add comments or text cells in between to explain the general idea of each block of the code.\n",
        "#   Please feel free to add more cells below this cell if necessary\n",
        "\n",
        "\n",
        "\n"
      ]
    },
    {
      "cell_type": "markdown",
      "metadata": {
        "id": "tD6h0TglY6Dv"
      },
      "source": [
        "*-----------------\n",
        "# Done\n",
        "\n",
        "All set! \n",
        "\n",
        "** What do you need to submit?**\n",
        "\n",
        "* **Notebook File**: Save this IPython notebook, and find the notebook file in your folder (for example, \"filename.ipynb\"). This is the file you need to submit. Please make sure all the plotted tables and figures are in the notebook. If you used \"ipython notebook --pylab=inline\" to open the notebook, all the figures and tables should have shown up in the notebook.\n",
        "\n",
        "\n",
        "* **PPT Slides**: please prepare PPT slides (for 15 minutes' talk) to present about the case study . We will ask *all* teams to present their case studies in class for this case study. \n",
        "\n",
        "* **Report**: please prepare a report (less than 10 pages) to report what you found in the data.\n",
        "    * What data you collected? \n",
        "    * Why this topic is interesting or important to you? (Motivations)\n",
        "    * How did you analyse the data?\n",
        "    * What did you find in the data? \n",
        " \n",
        "     (please include figures or tables in the report, but no source code)\n",
        "\n",
        "Please compress all the files in a zipped file.\n",
        "\n",
        "\n",
        "** How to submit: **\n",
        "\n",
        "        Please submit through canvas.wpi.edu\n",
        "\n"
      ]
    },
    {
      "cell_type": "markdown",
      "metadata": {
        "id": "-FvDoMzSY6Dv"
      },
      "source": [
        "# Grading Criteria:\n",
        "\n",
        "**Totoal Points: 100**\n",
        "\n",
        "\n",
        "---------------------------------------------------------------------------\n",
        "**Notebook results:**\n",
        "    Points: 80\n",
        "\n",
        "\n",
        "    -----------------------------------\n",
        "    Question 1:\n",
        "    Points: 20\n",
        "    -----------------------------------\n",
        "    \n",
        "    -----------------------------------\n",
        "    Question 2:\n",
        "    Points: 20\n",
        "    -----------------------------------\n",
        "        \n",
        "    -----------------------------------\n",
        "    Question 3:\n",
        "    Points: 20\n",
        "    -----------------------------------\n",
        "  \n",
        "    -----------------------------------\n",
        "    Question 4:  Business question\n",
        "    Points: 20\n",
        "    -----------------------------------\n",
        "\n",
        "\n",
        "---------------------------------------------------------------------------\n",
        "**Slides (for 5-10 minutes of presentation): Story-telling**\n",
        "    Points: 20\n",
        "\n",
        "\n",
        "1. Motivation about the data collection, why the topic is interesting to you.\n",
        "    Points: 5 \n",
        "\n",
        "2. Communicating Results (figure/table)\n",
        "    Points: 10 \n",
        "\n",
        "3. Story telling (How all the parts (data, analysis, result) fit together as a story?)\n",
        "    Points: 5 \n"
      ]
    },
    {
      "cell_type": "code",
      "execution_count": null,
      "metadata": {
        "id": "2Wy1xam0Y6Dw"
      },
      "outputs": [],
      "source": []
    }
  ],
  "metadata": {
    "anaconda-cloud": {},
    "colab": {
      "name": "CaseStudy2_MongoDB.ipynb",
      "provenance": []
    },
    "kernel_info": {
      "name": "python3"
    },
    "kernelspec": {
      "display_name": "Python 3",
      "language": "python",
      "name": "python3"
    },
    "language_info": {
      "codemirror_mode": {
        "name": "ipython",
        "version": 3
      },
      "file_extension": ".py",
      "mimetype": "text/x-python",
      "name": "python",
      "nbconvert_exporter": "python",
      "pygments_lexer": "ipython3",
      "version": "3.8.5"
    },
    "nteract": {
      "version": "0.2.0"
    }
  },
  "nbformat": 4,
  "nbformat_minor": 0
}
